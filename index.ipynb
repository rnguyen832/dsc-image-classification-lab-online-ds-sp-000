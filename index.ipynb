{
 "cells": [
  {
   "cell_type": "markdown",
   "metadata": {},
   "source": [
    "# Image Classification - Lab\n",
    "\n",
    "## Introduction\n",
    "\n",
    "Now that you have a working knowledge of CNNs and have practiced implementing associated techniques in Keras, its time to put all of those skills together. In this lab, you'll work to complete a [Kaggle competition](https://www.kaggle.com/c/dog-breed-identification) on classifying dog breeds.\n",
    "\n",
    "\n",
    "## Objectives\n",
    "\n",
    "In this lab you will: \n",
    "\n",
    "- Compare and apply multiple techniques for tuning a model using data augmentation and pretrained models  \n",
    "\n",
    "## Download and Load the Data\n",
    "\n",
    "Start by downloading the data locally and loading it into a Pandas DataFrame. Be forewarned that this dataset is fairly large and it is advisable to close other memory intensive applications.\n",
    "\n",
    "The data can be found [here](https://www.kaggle.com/c/dog-breed-identification/data).\n",
    "\n",
    "It's easiest if you download the data into this directory on your local computer. From there, be sure to uncompress the folder and subfolders. If you download the data elsewhere, be sure to modify the file path when importing the file below."
   ]
  },
  {
   "cell_type": "markdown",
   "metadata": {},
   "source": [
    "# No code per se, but download and decompress the data"
   ]
  },
  {
   "cell_type": "markdown",
   "metadata": {},
   "source": [
    "## Preprocessing\n",
    "\n",
    "Now that you've downloaded the data, its time to prepare it for some model building! You'll notice that the current structure provided is not the same as our lovely preprocessed folders that you've been given to date. Instead, you have one large training folder with images and a csv file with labels associated with each of these file types. \n",
    "\n",
    "Use this to create a directory substructure for a train-validation-test split as we have done previously. Also recall that you'll also want to use one-hot encoding as you are now presented with a multi-class problem as opposed to simple binary classification."
   ]
  },
  {
   "cell_type": "code",
   "execution_count": 1,
   "metadata": {},
   "outputs": [
    {
     "name": "stderr",
     "output_type": "stream",
     "text": [
      "Using TensorFlow backend.\n"
     ]
    }
   ],
   "source": [
    "import pandas as pd\n",
    "import numpy as np\n",
    "import os, shutil\n",
    "from keras_preprocessing.image import ImageDataGenerator\n",
    "import datetime\n",
    "import keras\n",
    "import matplotlib.pyplot as plt\n",
    "%matplotlib inline"
   ]
  },
  {
   "cell_type": "code",
   "execution_count": 2,
   "metadata": {},
   "outputs": [],
   "source": [
    "# Your code here; open the labels.csv file stored in the zip file\n",
    "raw = pd.read_csv(\"dog-breed-identification\\labels.csv\")"
   ]
  },
  {
   "cell_type": "code",
   "execution_count": 3,
   "metadata": {},
   "outputs": [
    {
     "data": {
      "text/html": [
       "<div>\n",
       "<style scoped>\n",
       "    .dataframe tbody tr th:only-of-type {\n",
       "        vertical-align: middle;\n",
       "    }\n",
       "\n",
       "    .dataframe tbody tr th {\n",
       "        vertical-align: top;\n",
       "    }\n",
       "\n",
       "    .dataframe thead th {\n",
       "        text-align: right;\n",
       "    }\n",
       "</style>\n",
       "<table border=\"1\" class=\"dataframe\">\n",
       "  <thead>\n",
       "    <tr style=\"text-align: right;\">\n",
       "      <th></th>\n",
       "      <th>id</th>\n",
       "      <th>breed</th>\n",
       "    </tr>\n",
       "  </thead>\n",
       "  <tbody>\n",
       "    <tr>\n",
       "      <td>0</td>\n",
       "      <td>000bec180eb18c7604dcecc8fe0dba07</td>\n",
       "      <td>boston_bull</td>\n",
       "    </tr>\n",
       "    <tr>\n",
       "      <td>1</td>\n",
       "      <td>001513dfcb2ffafc82cccf4d8bbaba97</td>\n",
       "      <td>dingo</td>\n",
       "    </tr>\n",
       "    <tr>\n",
       "      <td>2</td>\n",
       "      <td>001cdf01b096e06d78e9e5112d419397</td>\n",
       "      <td>pekinese</td>\n",
       "    </tr>\n",
       "    <tr>\n",
       "      <td>3</td>\n",
       "      <td>00214f311d5d2247d5dfe4fe24b2303d</td>\n",
       "      <td>bluetick</td>\n",
       "    </tr>\n",
       "    <tr>\n",
       "      <td>4</td>\n",
       "      <td>0021f9ceb3235effd7fcde7f7538ed62</td>\n",
       "      <td>golden_retriever</td>\n",
       "    </tr>\n",
       "    <tr>\n",
       "      <td>...</td>\n",
       "      <td>...</td>\n",
       "      <td>...</td>\n",
       "    </tr>\n",
       "    <tr>\n",
       "      <td>10217</td>\n",
       "      <td>ffd25009d635cfd16e793503ac5edef0</td>\n",
       "      <td>borzoi</td>\n",
       "    </tr>\n",
       "    <tr>\n",
       "      <td>10218</td>\n",
       "      <td>ffd3f636f7f379c51ba3648a9ff8254f</td>\n",
       "      <td>dandie_dinmont</td>\n",
       "    </tr>\n",
       "    <tr>\n",
       "      <td>10219</td>\n",
       "      <td>ffe2ca6c940cddfee68fa3cc6c63213f</td>\n",
       "      <td>airedale</td>\n",
       "    </tr>\n",
       "    <tr>\n",
       "      <td>10220</td>\n",
       "      <td>ffe5f6d8e2bff356e9482a80a6e29aac</td>\n",
       "      <td>miniature_pinscher</td>\n",
       "    </tr>\n",
       "    <tr>\n",
       "      <td>10221</td>\n",
       "      <td>fff43b07992508bc822f33d8ffd902ae</td>\n",
       "      <td>chesapeake_bay_retriever</td>\n",
       "    </tr>\n",
       "  </tbody>\n",
       "</table>\n",
       "<p>10222 rows × 2 columns</p>\n",
       "</div>"
      ],
      "text/plain": [
       "                                     id                     breed\n",
       "0      000bec180eb18c7604dcecc8fe0dba07               boston_bull\n",
       "1      001513dfcb2ffafc82cccf4d8bbaba97                     dingo\n",
       "2      001cdf01b096e06d78e9e5112d419397                  pekinese\n",
       "3      00214f311d5d2247d5dfe4fe24b2303d                  bluetick\n",
       "4      0021f9ceb3235effd7fcde7f7538ed62          golden_retriever\n",
       "...                                 ...                       ...\n",
       "10217  ffd25009d635cfd16e793503ac5edef0                    borzoi\n",
       "10218  ffd3f636f7f379c51ba3648a9ff8254f            dandie_dinmont\n",
       "10219  ffe2ca6c940cddfee68fa3cc6c63213f                  airedale\n",
       "10220  ffe5f6d8e2bff356e9482a80a6e29aac        miniature_pinscher\n",
       "10221  fff43b07992508bc822f33d8ffd902ae  chesapeake_bay_retriever\n",
       "\n",
       "[10222 rows x 2 columns]"
      ]
     },
     "execution_count": 3,
     "metadata": {},
     "output_type": "execute_result"
    }
   ],
   "source": [
    "raw"
   ]
  },
  {
   "cell_type": "markdown",
   "metadata": {},
   "source": [
    "\n",
    "In order to input the data into our standard pipeline, you'll need to organize the image files into a nested folder structure. At the top level will be a folder for the training data, a folder for the validation data, and a folder for the test data. Within these top directory folders, you'll then need to create a folder for each of the categorical classes (in this case, dog breeds). Finally, within these category folders you'll then place each of the associated image files. To save time, do this for just 3 of the dog breeds such as `'boston_bull'`, `'toy_poodle'`, and `'scottish_deerhound'`.\n",
    "\n",
    "You're nested file structure should look like this:\n",
    "* train\n",
    "    * category_1\n",
    "    * category_2\n",
    "    * category_3\n",
    "    ...\n",
    "* val\n",
    "    * category_1\n",
    "    * category_2\n",
    "    * category_3\n",
    "    ...\n",
    "* test \n",
    "    * category_1\n",
    "    * category_2\n",
    "    * category_3\n",
    "    ...  \n",
    "\n",
    "> **Hint**: To do this, you can use the `os` module which will you can use to execute many common bash commands straight from your python interpreter. For example, here's how you could make a new folder: \n",
    "\n",
    "```python\n",
    "import os\n",
    "os.mkdir('New_Folder_Name')\n",
    "```\n",
    "Start by creating top level folders for the train, validation, and test sets. Then, use your pandas DataFrame to split the example images for each breed of dog into a 80% train set, and 10% validation and test sets. Use `os.path.join()` with the information from the DataFrame to construct the relevant file path. With this, place the relevant images using the `shutil.copy()` into the appropriate directory. \n",
    "\n",
    ">> **Note**: It is worthwhile to try this exercise on your own, but you can also use the images stored under the `'data_org_subset/'` folder of this repository, in which the Kaggle dataset has already been subset and preprocessed."
   ]
  },
  {
   "cell_type": "code",
   "execution_count": 4,
   "metadata": {},
   "outputs": [],
   "source": [
    "# Your code here; transform the image files and then load them into Keras as tensors \n",
    "# (be sure to perform a train-val-test split)\n",
    "train = raw.sample(frac=0.8)\n",
    "val_test = raw.drop(train.index)\n",
    "val = val_test.sample(frac=0.5)\n",
    "test = val_test.drop(val.index)\n",
    "\n",
    "for i in ['train', 'validation', 'test']:\n",
    "    os.mkdir(i)\n",
    "    for b in raw[\"breed\"].unique():\n",
    "        os.mkdir(os.path.join(i, b))\n",
    "        \n",
    "for i in train.index:\n",
    "    a = os.path.join(\"dog-breed-identification/train/\" + \n",
    "                     train['id'][i] + \".jpg\")\n",
    "    z = os.path.join(\"train/{}/{}.jpg\".format(train[\"breed\"][i], train[\"id\"][i]))\n",
    "    shutil.copy(a, z)\n",
    "    \n",
    "for i in val.index:\n",
    "    a = os.path.join(\"dog-breed-identification/train/{}.jpg\".format(val['id'][i]))\n",
    "    z = os.path.join(\"validation/{}/{}.jpg\".format(val[\"breed\"][i], val[\"id\"][i]))\n",
    "    shutil.copy(a, z)\n",
    "    \n",
    "for i in test.index:\n",
    "    a = os.path.join(\"dog-breed-identification/train/{}.jpg\".format(test['id'][i]))\n",
    "    z = os.path.join(\"test/{}/{}.jpg\".format(test[\"breed\"][i], test[\"id\"][i]))\n",
    "    shutil.copy(a, z)"
   ]
  },
  {
   "cell_type": "code",
   "execution_count": 5,
   "metadata": {},
   "outputs": [
    {
     "name": "stdout",
     "output_type": "stream",
     "text": [
      "Found 8178 images belonging to 120 classes.\n",
      "Found 1022 images belonging to 120 classes.\n"
     ]
    }
   ],
   "source": [
    "idg_train = ImageDataGenerator(rescale=1./255)\n",
    "idg_val = ImageDataGenerator(rescale=1./255)\n",
    "\n",
    "train_gen = idg_train.flow_from_directory(\"train/\", \n",
    "                                          target_size=(64, 64), \n",
    "                                          batch_size=32, \n",
    "                                          class_mode=\"categorical\")\n",
    "\n",
    "val_gen = idg_val.flow_from_directory(\"validation/\", \n",
    "                                      target_size=(64, 64), \n",
    "                                      batch_size=32, \n",
    "                                      class_mode=\"categorical\")"
   ]
  },
  {
   "cell_type": "markdown",
   "metadata": {},
   "source": [
    "## Optional: Build a Baseline CNN\n",
    "\n",
    "This is an optional step. Adapting a pretrained model will produce better results, but it may be interesting to create a CNN from scratch as a baseline. If you wish to, do so here."
   ]
  },
  {
   "cell_type": "code",
   "execution_count": 6,
   "metadata": {},
   "outputs": [
    {
     "name": "stdout",
     "output_type": "stream",
     "text": [
      "Epoch 1/30\n",
      "100/100 [==============================] - 28s 285ms/step - loss: 4.7863 - accuracy: 0.0100 - val_loss: 4.7856 - val_accuracy: 0.0056\n",
      "Epoch 2/30\n",
      "100/100 [==============================] - 24s 242ms/step - loss: 4.7840 - accuracy: 0.0097 - val_loss: 4.8085 - val_accuracy: 0.0075\n",
      "Epoch 3/30\n",
      "100/100 [==============================] - 20s 198ms/step - loss: 4.7762 - accuracy: 0.0135 - val_loss: 4.7451 - val_accuracy: 0.0100\n",
      "Epoch 4/30\n",
      "100/100 [==============================] - 15s 152ms/step - loss: 4.7482 - accuracy: 0.0150 - val_loss: 4.6994 - val_accuracy: 0.0213\n",
      "Epoch 5/30\n",
      "100/100 [==============================] - 15s 150ms/step - loss: 4.6876 - accuracy: 0.0228 - val_loss: 4.8455 - val_accuracy: 0.0225\n",
      "Epoch 6/30\n",
      "100/100 [==============================] - 16s 156ms/step - loss: 4.6146 - accuracy: 0.0210 - val_loss: 4.5516 - val_accuracy: 0.0244\n",
      "Epoch 7/30\n",
      "100/100 [==============================] - 15s 151ms/step - loss: 4.5550 - accuracy: 0.0300 - val_loss: 4.5739 - val_accuracy: 0.0300\n",
      "Epoch 8/30\n",
      "100/100 [==============================] - 16s 157ms/step - loss: 4.5175 - accuracy: 0.0334 - val_loss: 4.5634 - val_accuracy: 0.0313\n",
      "Epoch 9/30\n",
      "100/100 [==============================] - 15s 150ms/step - loss: 4.4574 - accuracy: 0.0345 - val_loss: 4.5090 - val_accuracy: 0.0238\n",
      "Epoch 10/30\n",
      "100/100 [==============================] - 14s 145ms/step - loss: 4.4440 - accuracy: 0.0325 - val_loss: 4.5637 - val_accuracy: 0.0401\n",
      "Epoch 11/30\n",
      "100/100 [==============================] - 15s 149ms/step - loss: 4.3989 - accuracy: 0.0394 - val_loss: 4.3420 - val_accuracy: 0.0357\n",
      "Epoch 12/30\n",
      "100/100 [==============================] - 15s 147ms/step - loss: 4.3789 - accuracy: 0.0399 - val_loss: 4.4733 - val_accuracy: 0.0357\n",
      "Epoch 13/30\n",
      "100/100 [==============================] - 15s 151ms/step - loss: 4.3741 - accuracy: 0.0419 - val_loss: 4.6085 - val_accuracy: 0.0508\n",
      "Epoch 14/30\n",
      "100/100 [==============================] - 15s 147ms/step - loss: 4.3234 - accuracy: 0.0477 - val_loss: 4.2503 - val_accuracy: 0.0419\n",
      "Epoch 15/30\n",
      "100/100 [==============================] - 15s 148ms/step - loss: 4.3168 - accuracy: 0.0494 - val_loss: 4.2623 - val_accuracy: 0.0370\n",
      "Epoch 16/30\n",
      "100/100 [==============================] - 15s 146ms/step - loss: 4.2642 - accuracy: 0.0472 - val_loss: 4.1594 - val_accuracy: 0.0539\n",
      "Epoch 17/30\n",
      "100/100 [==============================] - 15s 146ms/step - loss: 4.3010 - accuracy: 0.0559 - val_loss: 4.2836 - val_accuracy: 0.0544\n",
      "Epoch 18/30\n",
      "100/100 [==============================] - 15s 146ms/step - loss: 4.2396 - accuracy: 0.0622 - val_loss: 4.4042 - val_accuracy: 0.0457\n",
      "Epoch 19/30\n",
      "100/100 [==============================] - 15s 145ms/step - loss: 4.2129 - accuracy: 0.0666 - val_loss: 4.7230 - val_accuracy: 0.0557\n",
      "Epoch 20/30\n",
      "100/100 [==============================] - 15s 149ms/step - loss: 4.2128 - accuracy: 0.0581 - val_loss: 4.4179 - val_accuracy: 0.0457\n",
      "Epoch 21/30\n",
      "100/100 [==============================] - 15s 148ms/step - loss: 4.1431 - accuracy: 0.0725 - val_loss: 4.2859 - val_accuracy: 0.0663\n",
      "Epoch 22/30\n",
      "100/100 [==============================] - 15s 152ms/step - loss: 4.1415 - accuracy: 0.0760 - val_loss: 4.5353 - val_accuracy: 0.0602\n",
      "Epoch 23/30\n",
      "100/100 [==============================] - 15s 148ms/step - loss: 4.1452 - accuracy: 0.0756 - val_loss: 4.2771 - val_accuracy: 0.0632\n",
      "Epoch 24/30\n",
      "100/100 [==============================] - 16s 161ms/step - loss: 4.0682 - accuracy: 0.0819 - val_loss: 3.8218 - val_accuracy: 0.0695\n",
      "Epoch 25/30\n",
      "100/100 [==============================] - 14s 144ms/step - loss: 4.0860 - accuracy: 0.0822 - val_loss: 4.4246 - val_accuracy: 0.0677\n",
      "Epoch 26/30\n",
      "100/100 [==============================] - 15s 145ms/step - loss: 4.0399 - accuracy: 0.0850 - val_loss: 4.3549 - val_accuracy: 0.0701\n",
      "Epoch 27/30\n",
      "100/100 [==============================] - 15s 151ms/step - loss: 3.9727 - accuracy: 0.0873 - val_loss: 3.6884 - val_accuracy: 0.0658\n",
      "Epoch 28/30\n",
      "100/100 [==============================] - 15s 148ms/step - loss: 4.0583 - accuracy: 0.0906 - val_loss: 4.1556 - val_accuracy: 0.0676\n",
      "Epoch 29/30\n",
      "100/100 [==============================] - 15s 152ms/step - loss: 3.9253 - accuracy: 0.1031 - val_loss: 4.1405 - val_accuracy: 0.0627\n",
      "Epoch 30/30\n",
      "100/100 [==============================] - 15s 146ms/step - loss: 3.9518 - accuracy: 0.1030 - val_loss: 4.3561 - val_accuracy: 0.0757\n"
     ]
    }
   ],
   "source": [
    "# Create a baseline CNN model\n",
    "from keras import models, optimizers\n",
    "from keras.layers import Conv2D, MaxPooling2D, Flatten, Dense\n",
    "\n",
    "model = models.Sequential()\n",
    "\n",
    "model.add(Conv2D(filters=32, \n",
    "                 kernel_size=(3, 3), \n",
    "                 activation=\"relu\", \n",
    "                 input_shape=(64, 64, 3)))\n",
    "model.add(MaxPooling2D(pool_size=(2, 2)))\n",
    "\n",
    "model.add(Conv2D(filters=64, \n",
    "                 kernel_size=(3, 3), \n",
    "                 activation=\"relu\"))\n",
    "model.add(MaxPooling2D(pool_size=(2, 2)))\n",
    "\n",
    "model.add(Conv2D(filters=128, \n",
    "                 kernel_size=(3, 3), \n",
    "                 activation=\"relu\"))\n",
    "model.add(MaxPooling2D(pool_size=(2, 2)))\n",
    "\n",
    "model.add(Conv2D(filters=128, \n",
    "                 kernel_size=(3, 3), \n",
    "                 activation=\"relu\"))\n",
    "model.add(MaxPooling2D(pool_size=(2, 2)))\n",
    "\n",
    "model.add(Flatten())\n",
    "model.add(Dense(512, activation=\"relu\"))\n",
    "model.add(Dense(512, activation=\"relu\"))\n",
    "model.add(Dense(512, activation=\"relu\"))\n",
    "model.add(Dense(120, activation=\"sigmoid\"))\n",
    "\n",
    "model.compile(loss=\"categorical_crossentropy\", \n",
    "              optimizer=optimizers.RMSprop(1e-4), \n",
    "              metrics=[\"accuracy\"])\n",
    "\n",
    "history = model.fit_generator(train_gen, \n",
    "                              steps_per_epoch=100, \n",
    "                              epochs=30, \n",
    "                              validation_data=val_gen, \n",
    "                              validation_steps=50)"
   ]
  },
  {
   "cell_type": "code",
   "execution_count": 7,
   "metadata": {},
   "outputs": [],
   "source": [
    "model.save(\"Baseline_CNN.h5\")"
   ]
  },
  {
   "cell_type": "markdown",
   "metadata": {},
   "source": [
    "## Loading a Pretrained CNN\n",
    "\n",
    "## Feature Engineering with the Pretrained Model\n",
    "\n",
    "As you may well have guessed, adapting a pretrained model will undoubtedly produce better results then a fresh CNN due to the limited size of training data. Import a pretrained model such as VGG-19 to use a convolutional base. Use this to transform the dataset into a rich feature space and add a few fully connected layers on top of the pretrained layers to build a classification model. (Be sure to leave the pretrained model frozen!)"
   ]
  },
  {
   "cell_type": "code",
   "execution_count": 8,
   "metadata": {},
   "outputs": [
    {
     "name": "stdout",
     "output_type": "stream",
     "text": [
      "Found 8178 images belonging to 120 classes.\n",
      "Found 1022 images belonging to 120 classes.\n",
      "Found 1022 images belonging to 120 classes.\n",
      "Epoch 1/30\n",
      "100/100 [==============================] - 62s 617ms/step - loss: 4.7915 - accuracy: 0.0119 - val_loss: 4.7874 - val_accuracy: 0.0156\n",
      "Epoch 2/30\n",
      "100/100 [==============================] - 61s 612ms/step - loss: 4.7813 - accuracy: 0.0107 - val_loss: 4.7083 - val_accuracy: 0.0182\n",
      "Epoch 3/30\n",
      "100/100 [==============================] - 61s 613ms/step - loss: 4.7667 - accuracy: 0.0181 - val_loss: 4.7627 - val_accuracy: 0.0138\n",
      "Epoch 4/30\n",
      "100/100 [==============================] - 62s 615ms/step - loss: 4.7479 - accuracy: 0.0197 - val_loss: 4.6945 - val_accuracy: 0.0207\n",
      "Epoch 5/30\n",
      "100/100 [==============================] - 61s 613ms/step - loss: 4.7298 - accuracy: 0.0194 - val_loss: 4.7448 - val_accuracy: 0.0244\n",
      "Epoch 6/30\n",
      "100/100 [==============================] - 61s 610ms/step - loss: 4.6761 - accuracy: 0.0268 - val_loss: 4.7794 - val_accuracy: 0.0326\n",
      "Epoch 7/30\n",
      "100/100 [==============================] - 61s 613ms/step - loss: 4.6546 - accuracy: 0.0306 - val_loss: 4.6444 - val_accuracy: 0.0232\n",
      "Epoch 8/30\n",
      "100/100 [==============================] - 61s 613ms/step - loss: 4.6242 - accuracy: 0.0278 - val_loss: 4.4881 - val_accuracy: 0.0376\n",
      "Epoch 9/30\n",
      "100/100 [==============================] - 61s 611ms/step - loss: 4.5531 - accuracy: 0.0377 - val_loss: 4.6271 - val_accuracy: 0.0282\n",
      "Epoch 10/30\n",
      "100/100 [==============================] - 61s 613ms/step - loss: 4.5267 - accuracy: 0.0416 - val_loss: 4.6795 - val_accuracy: 0.0325\n",
      "Epoch 11/30\n",
      "100/100 [==============================] - 61s 613ms/step - loss: 4.4948 - accuracy: 0.0466 - val_loss: 4.6403 - val_accuracy: 0.0376\n",
      "Epoch 12/30\n",
      "100/100 [==============================] - 61s 611ms/step - loss: 4.4568 - accuracy: 0.0549 - val_loss: 4.6683 - val_accuracy: 0.0357\n",
      "Epoch 13/30\n",
      "100/100 [==============================] - 61s 613ms/step - loss: 4.4646 - accuracy: 0.0491 - val_loss: 4.4936 - val_accuracy: 0.0482\n",
      "Epoch 14/30\n",
      "100/100 [==============================] - 61s 612ms/step - loss: 4.3913 - accuracy: 0.0531 - val_loss: 4.6797 - val_accuracy: 0.0394\n",
      "Epoch 15/30\n",
      "100/100 [==============================] - 61s 615ms/step - loss: 4.3853 - accuracy: 0.0578 - val_loss: 4.3549 - val_accuracy: 0.0558\n",
      "Epoch 16/30\n",
      "100/100 [==============================] - 62s 621ms/step - loss: 4.3414 - accuracy: 0.0608 - val_loss: 4.6628 - val_accuracy: 0.0501\n",
      "Epoch 17/30\n",
      "100/100 [==============================] - 61s 613ms/step - loss: 4.3269 - accuracy: 0.0650 - val_loss: 4.3708 - val_accuracy: 0.0507\n",
      "Epoch 18/30\n",
      "100/100 [==============================] - 61s 613ms/step - loss: 4.3411 - accuracy: 0.0550 - val_loss: 4.1672 - val_accuracy: 0.0545\n",
      "Epoch 19/30\n",
      "100/100 [==============================] - 61s 611ms/step - loss: 4.2673 - accuracy: 0.0697 - val_loss: 4.4710 - val_accuracy: 0.0532\n",
      "Epoch 20/30\n",
      "100/100 [==============================] - 61s 613ms/step - loss: 4.2775 - accuracy: 0.0712 - val_loss: 4.2559 - val_accuracy: 0.0614\n",
      "Epoch 21/30\n",
      "100/100 [==============================] - 61s 613ms/step - loss: 4.2482 - accuracy: 0.0697 - val_loss: 4.2541 - val_accuracy: 0.0607\n",
      "Epoch 22/30\n",
      "100/100 [==============================] - 61s 614ms/step - loss: 4.2539 - accuracy: 0.0712 - val_loss: 4.2444 - val_accuracy: 0.0514\n",
      "Epoch 23/30\n",
      "100/100 [==============================] - 61s 611ms/step - loss: 4.2255 - accuracy: 0.0763 - val_loss: 4.2722 - val_accuracy: 0.0582\n",
      "Epoch 24/30\n",
      "100/100 [==============================] - 62s 615ms/step - loss: 4.1845 - accuracy: 0.0819 - val_loss: 4.3562 - val_accuracy: 0.0589\n",
      "Epoch 25/30\n",
      "100/100 [==============================] - 61s 612ms/step - loss: 4.2077 - accuracy: 0.0769 - val_loss: 4.2675 - val_accuracy: 0.0595\n",
      "Epoch 26/30\n",
      "100/100 [==============================] - 61s 614ms/step - loss: 4.1574 - accuracy: 0.0794 - val_loss: 4.6543 - val_accuracy: 0.0688\n",
      "Epoch 27/30\n",
      "100/100 [==============================] - 61s 612ms/step - loss: 4.1678 - accuracy: 0.0860 - val_loss: 4.3773 - val_accuracy: 0.0595\n",
      "Epoch 28/30\n",
      "100/100 [==============================] - 61s 613ms/step - loss: 4.1665 - accuracy: 0.0862 - val_loss: 3.9676 - val_accuracy: 0.0682\n",
      "Epoch 29/30\n",
      "100/100 [==============================] - 61s 614ms/step - loss: 4.1151 - accuracy: 0.0819 - val_loss: 4.4796 - val_accuracy: 0.0614\n",
      "Epoch 30/30\n",
      "100/100 [==============================] - 61s 613ms/step - loss: 4.1376 - accuracy: 0.0862 - val_loss: 4.0204 - val_accuracy: 0.0701\n"
     ]
    }
   ],
   "source": [
    "# Your code here; add fully connected layers on top of the convolutional base\n",
    "from keras.applications import VGG19\n",
    "\n",
    "cnn_base = VGG19(weights='imagenet', \n",
    "                 include_top=False, \n",
    "                 input_shape=(64, 64, 3))\n",
    "\n",
    "model = models.Sequential()\n",
    "model.add(cnn_base)\n",
    "model.add(Flatten())\n",
    "model.add(Dense(512, activation=\"relu\"))\n",
    "model.add(Dense(512, activation=\"relu\"))\n",
    "model.add(Dense(512, activation=\"relu\"))\n",
    "model.add(Dense(120, activation=\"sigmoid\"))\n",
    "\n",
    "cnn_base.trainable = False\n",
    "\n",
    "train_datagen = ImageDataGenerator(rescale=1./255, \n",
    "                                   rotation_range=40, \n",
    "                                   width_shift_range=0.2, \n",
    "                                   height_shift_range=0.2, \n",
    "                                   shear_range=0.2, \n",
    "                                   zoom_range=0.2, \n",
    "                                   horizontal_flip=True, \n",
    "                                   fill_mode=\"nearest\")\n",
    "\n",
    "train_generator = train_datagen.flow_from_directory(\"train/\",  \n",
    "                                                    target_size=(64, 64),  \n",
    "                                                    batch_size= 32, \n",
    "                                                    class_mode= \"categorical\") \n",
    "\n",
    "val_generator = ImageDataGenerator(rescale=1./255).flow_from_directory(\"validation/\",  \n",
    "                                                                       target_size=(64, 64),  \n",
    "                                                                       batch_size=32, \n",
    "                                                                       class_mode=\"categorical\")\n",
    "\n",
    "test_generator = ImageDataGenerator(rescale=1./255).flow_from_directory(\"test/\",  \n",
    "                                                                        target_size=(64, 64), \n",
    "                                                                        batch_size=180,\n",
    "                                                                        class_mode=\"categorical\")\n",
    "\n",
    "test_images, test_labels = next(test_generator)\n",
    "\n",
    "model.compile(loss=\"categorical_crossentropy\",\n",
    "              optimizer=optimizers.RMSprop(lr=1e-4),\n",
    "              metrics=[\"accuracy\"])\n",
    "\n",
    "history = model.fit_generator(train_generator, \n",
    "                              steps_per_epoch=100, \n",
    "                              epochs=30, \n",
    "                              validation_data=val_generator, \n",
    "                              validation_steps=50)"
   ]
  },
  {
   "cell_type": "markdown",
   "metadata": {},
   "source": [
    "## Visualize History\n",
    "\n",
    "Now fit the model and visualize the training and validation accuracy/loss functions over successive epochs."
   ]
  },
  {
   "cell_type": "code",
   "execution_count": 9,
   "metadata": {},
   "outputs": [
    {
     "data": {
      "image/png": "[encoded data removed]",
      "text/plain": [
       "<Figure size 432x288 with 1 Axes>"
      ]
     },
     "metadata": {
      "needs_background": "light"
     },
     "output_type": "display_data"
    }
   ],
   "source": [
    "# Your code here; visualize the training / validation history associated with fitting the model\n",
    "#plt.figure()\n",
    "plt.plot(history.history[\"val_accuracy\"])\n",
    "plt.plot(history.history[\"accuracy\"])\n",
    "plt.legend(['Validation Set', 'Train Set'])\n",
    "plt.title(\"Accuracy vs number of epochs\")\n",
    "plt.xlabel(\"Epochs\")\n",
    "plt.ylabel(\"Accuracy\")\n",
    "plt.show()"
   ]
  },
  {
   "cell_type": "code",
   "execution_count": 10,
   "metadata": {},
   "outputs": [],
   "source": [
    "# Save model\n",
    "model.save(\"vgg19_FE_AUG_30epochs.h5\")"
   ]
  },
  {
   "cell_type": "markdown",
   "metadata": {},
   "source": [
    "## Final Model Evaluation\n",
    "\n",
    "Now that you've trained and validated the model, perform a final evaluation of the model on the test set."
   ]
  },
  {
   "cell_type": "code",
   "execution_count": 11,
   "metadata": {},
   "outputs": [
    {
     "name": "stdout",
     "output_type": "stream",
     "text": [
      "test acc: 0.06232427433133125\n"
     ]
    }
   ],
   "source": [
    "# Your code here\n",
    "test_loss, test_acc = model.evaluate_generator(test_generator, steps=50)\n",
    "print('test acc:', test_acc)"
   ]
  },
  {
   "cell_type": "markdown",
   "metadata": {},
   "source": [
    "## Summary\n",
    "\n",
    "Congratulations! In this lab, you brought all of your prior deep learning skills together from preprocessing including one-hot encoding, to adapting a pretrained model. There are always ongoing advancements in CNN architectures and best practices, but you have a solid foundation and understanding at this point."
   ]
  }
 ],
 "metadata": {
  "kernelspec": {
   "display_name": "Python 3",
   "language": "python",
   "name": "python3"
  },
  "language_info": {
   "codemirror_mode": {
    "name": "ipython",
    "version": 3
   },
   "file_extension": ".py",
   "mimetype": "text/x-python",
   "name": "python",
   "nbconvert_exporter": "python",
   "pygments_lexer": "ipython3",
   "version": "3.7.4"
  }
 },
 "nbformat": 4,
 "nbformat_minor": 2
}
